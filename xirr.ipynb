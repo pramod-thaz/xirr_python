{
 "metadata": {
  "language_info": {
   "codemirror_mode": {
    "name": "ipython",
    "version": 3
   },
   "file_extension": ".py",
   "mimetype": "text/x-python",
   "name": "python",
   "nbconvert_exporter": "python",
   "pygments_lexer": "ipython3",
   "version": "3.8.5-final"
  },
  "orig_nbformat": 2,
  "kernelspec": {
   "name": "Python 3.8.5 64-bit ('DATSCI38': conda)",
   "display_name": "Python 3.8.5 64-bit ('DATSCI38': conda)",
   "metadata": {
    "interpreter": {
     "hash": "3cdb42a093eb5a6b56c5052b866966c52c1962ea8f44d1a089e6b64a4792c21c"
    }
   }
  }
 },
 "nbformat": 4,
 "nbformat_minor": 2,
 "cells": [
  {
   "cell_type": "code",
   "execution_count": 16,
   "metadata": {},
   "outputs": [],
   "source": [
    "import pandas as pd\n",
    "import numpy as np\n",
    "from datetime import date, time, datetime\n",
    "import scipy.optimize\n",
    "from functools import reduce\n",
    "from datetime import date"
   ]
  },
  {
   "cell_type": "code",
   "execution_count": 4,
   "metadata": {},
   "outputs": [],
   "source": [
    "def xirr(df, guess=0.05, date_column='date', amount_column='amount'):\n",
    "    '''Calculates XIRR from a series of cashflows. \n",
    "       Needs a dataframe with columns date and amount, customisable through parameters. \n",
    "       Requires Pandas, NumPy libraries'''\n",
    "\n",
    "    df = df.sort_values(by=date_column).reset_index(drop=True)\n",
    "\n",
    "    amounts = df[amount_column].values\n",
    "    dates = df[date_column].values\n",
    "\n",
    "    years = np.array(dates-dates[0], dtype='timedelta64[D]').astype(int)/365\n",
    "\n",
    "    step = 0.05\n",
    "    epsilon = 0.0001\n",
    "    limit = 1000\n",
    "    residual = 1\n",
    "\n",
    "    #Test for direction of cashflows\n",
    "    disc_val_1 = np.sum(amounts/((1+guess)**years))\n",
    "    disc_val_2 = np.sum(amounts/((1.05+guess)**years))\n",
    "    mul = 1 if disc_val_2 < disc_val_1 else -1\n",
    "\n",
    "    #Calculate XIRR    \n",
    "    for i in range(limit):\n",
    "        prev_residual = residual\n",
    "        residual = np.sum(amounts/((1+guess)**years))\n",
    "        if abs(residual) > epsilon:\n",
    "            if np.sign(residual) != np.sign(prev_residual):\n",
    "                step /= 2\n",
    "            guess = guess + step * np.sign(residual) * mul   \n",
    "        else:\n",
    "            return guess"
   ]
  },
  {
   "cell_type": "code",
   "execution_count": 2,
   "metadata": {},
   "outputs": [],
   "source": [
    "def xnpv_sp(rate, values, dates):\n",
    "    '''Equivalent of Excel's XNPV function.\n",
    "\n",
    "    >>> from datetime import date\n",
    "    >>> dates = [date(2010, 12, 29), date(2012, 1, 25), date(2012, 3, 8)]\n",
    "    >>> values = [-10000, 20, 10100]\n",
    "    >>> xnpv(0.1, values, dates)\n",
    "    -966.4345...\n",
    "    '''\n",
    "    if rate <= -1.0:\n",
    "        return float('inf')\n",
    "    d0 = dates[0]    # or min(dates)\n",
    "    return sum([ vi / (1.0 + rate)**((di - d0).days / 365.0) for vi, di in zip(values, dates)])\n",
    "\n",
    "def xirr_sp(values, dates):\n",
    "    '''Equivalent of Excel's XIRR function.\n",
    "\n",
    "    >>> from datetime import date\n",
    "    >>> dates = [date(2010, 12, 29), date(2012, 1, 25), date(2012, 3, 8)]\n",
    "    >>> values = [-10000, 20, 10100]\n",
    "    >>> xirr(values, dates)\n",
    "    0.0100612...\n",
    "    '''\n",
    "    positives = [x if x > 0 else 0 for x in values] \n",
    "    negatives = [x if x < 0 else 0 for x in values] \n",
    "    return_guess = (sum(positives) + sum(negatives)) / (-sum(negatives))\n",
    "\n",
    "    try:\n",
    "        return scipy.optimize.newton(lambda r: xnpv_sp(r, values, dates), return_guess)\n",
    "    except RuntimeError:    # Failed to converge?\n",
    "        return scipy.optimize.brentq(lambda r: xnpv_sp(r, values, dates), -1.0, 1e10)"
   ]
  },
  {
   "cell_type": "code",
   "execution_count": 5,
   "metadata": {},
   "outputs": [
    {
     "output_type": "execute_result",
     "data": {
      "text/plain": [
       "0.010061264038085938"
      ]
     },
     "metadata": {},
     "execution_count": 5
    }
   ],
   "source": [
    "\n",
    "df = pd.DataFrame({\n",
    "  'date': [date(2010, 12, 29), date(2012, 1, 25), date(2012, 3, 8)],\n",
    "  'amount': [-10000, 20, 10100]\n",
    "})\n",
    "\n",
    "xirr(df)"
   ]
  },
  {
   "cell_type": "code",
   "execution_count": 6,
   "metadata": {},
   "outputs": [
    {
     "output_type": "execute_result",
     "data": {
      "text/plain": [
       "0.01006126516496502"
      ]
     },
     "metadata": {},
     "execution_count": 6
    }
   ],
   "source": [
    "dates = [date(2010, 12, 29), date(2012, 1, 25), date(2012, 3, 8)]\n",
    "values = [-1000000, 2000, 1010000]\n",
    "xirr_sp(values, dates)"
   ]
  },
  {
   "cell_type": "code",
   "execution_count": null,
   "metadata": {},
   "outputs": [],
   "source": []
  }
 ]
}