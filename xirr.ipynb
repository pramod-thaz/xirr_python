{
 "metadata": {
  "language_info": {
   "codemirror_mode": {
    "name": "ipython",
    "version": 3
   },
   "file_extension": ".py",
   "mimetype": "text/x-python",
   "name": "python",
   "nbconvert_exporter": "python",
   "pygments_lexer": "ipython3",
   "version": "3.8.5-final"
  },
  "orig_nbformat": 2,
  "kernelspec": {
   "name": "Python 3.8.5 64-bit ('DATSCI38': conda)",
   "display_name": "Python 3.8.5 64-bit ('DATSCI38': conda)",
   "metadata": {
    "interpreter": {
     "hash": "3cdb42a093eb5a6b56c5052b866966c52c1962ea8f44d1a089e6b64a4792c21c"
    }
   }
  }
 },
 "nbformat": 4,
 "nbformat_minor": 2,
 "cells": [
  {
   "cell_type": "code",
   "execution_count": 16,
   "metadata": {},
   "outputs": [],
   "source": [
    "import pandas as pd\n",
    "import numpy as np\n",
    "from datetime import date, time, datetime\n",
    "import scipy.optimize\n",
    "from functools import reduce\n",
    "from datetime import date"
   ]
  },
  {
   "cell_type": "code",
   "execution_count": 4,
   "metadata": {},
   "outputs": [],
   "source": [
    "def xirr(df, guess=0.05, date_column='date', amount_column='amount'):\n",
    "    '''Calculates XIRR from a series of cashflows. \n",
    "       Needs a dataframe with columns date and amount, customisable through parameters. \n",
    "       Requires Pandas, NumPy libraries'''\n",
    "\n",
    "    df = df.sort_values(by=date_column).reset_index(drop=True)\n",
    "\n",
    "    amounts = df[amount_column].values\n",
    "    dates = df[date_column].values\n",
    "\n",
    "    years = np.array(dates-dates[0], dtype='timedelta64[D]').astype(int)/365\n",
    "\n",
    "    step = 0.05\n",
    "    epsilon = 0.0001\n",
    "    limit = 1000\n",
    "    residual = 1\n",
    "\n",
    "    #Test for direction of cashflows\n",
    "    disc_val_1 = np.sum(amounts/((1+guess)**years))\n",
    "    disc_val_2 = np.sum(amounts/((1.05+guess)**years))\n",
    "    mul = 1 if disc_val_2 < disc_val_1 else -1\n",
    "\n",
    "    #Calculate XIRR    \n",
    "    for i in range(limit):\n",
    "        prev_residual = residual\n",
    "        residual = np.sum(amounts/((1+guess)**years))\n",
    "        if abs(residual) > epsilon:\n",
    "            if np.sign(residual) != np.sign(prev_residual):\n",
    "                step /= 2\n",
    "            guess = guess + step * np.sign(residual) * mul   \n",
    "        else:\n",
    "            return guess"
   ]
  },
  {
   "cell_type": "code",
   "execution_count": 2,
   "metadata": {},
   "outputs": [],
   "source": [
    "def xnpv_sp(rate, values, dates):\n",
    "    '''Equivalent of Excel's XNPV function.\n",
    "\n",
    "    >>> from datetime import date\n",
    "    >>> dates = [date(2010, 12, 29), date(2012, 1, 25), date(2012, 3, 8)]\n",
    "    >>> values = [-10000, 20, 10100]\n",
    "    >>> xnpv(0.1, values, dates)\n",
    "    -966.4345...\n",
    "    '''\n",
    "    if rate <= -1.0:\n",
    "        return float('inf')\n",
    "    d0 = dates[0]    # or min(dates)\n",
    "    return sum([ vi / (1.0 + rate)**((di - d0).days / 365.0) for vi, di in zip(values, dates)])\n",
    "\n",
    "def xirr_sp(values, dates):\n",
    "    '''Equivalent of Excel's XIRR function.\n",
    "\n",
    "    >>> from datetime import date\n",
    "    >>> dates = [date(2010, 12, 29), date(2012, 1, 25), date(2012, 3, 8)]\n",
    "    >>> values = [-10000, 20, 10100]\n",
    "    >>> xirr(values, dates)\n",
    "    0.0100612...\n",
    "    '''\n",
    "    positives = [x if x > 0 else 0 for x in values] \n",
    "    negatives = [x if x < 0 else 0 for x in values] \n",
    "    return_guess = (sum(positives) + sum(negatives)) / (-sum(negatives))\n",
    "\n",
    "    try:\n",
    "        return scipy.optimize.newton(lambda r: xnpv_sp(r, values, dates), return_guess)\n",
    "    except RuntimeError:    # Failed to converge?\n",
    "        return scipy.optimize.brentq(lambda r: xnpv_sp(r, values, dates), -1.0, 1e10)"
   ]
  },
  {
   "cell_type": "code",
   "execution_count": 5,
   "metadata": {},
   "outputs": [
    {
     "output_type": "execute_result",
     "data": {
      "text/plain": [
       "0.010061264038085938"
      ]
     },
     "metadata": {},
     "execution_count": 5
    }
   ],
   "source": [
    "\n",
    "df = pd.DataFrame({\n",
    "  'date': [date(2010, 12, 29), date(2012, 1, 25), date(2012, 3, 8)],\n",
    "  'amount': [-10000, 20, 10100]\n",
    "})\n",
    "\n",
    "xirr(df)"
   ]
  },
  {
   "cell_type": "code",
   "execution_count": 6,
   "metadata": {},
   "outputs": [
    {
     "output_type": "execute_result",
     "data": {
      "text/plain": [
       "0.01006126516496502"
      ]
     },
     "metadata": {},
     "execution_count": 6
    }
   ],
   "source": [
    "dates = [date(2010, 12, 29), date(2012, 1, 25), date(2012, 3, 8)]\n",
    "values = [-1000000, 2000, 1010000]\n",
    "xirr_sp(values, dates)"
   ]
  },
  {
   "cell_type": "code",
   "execution_count": 158,
   "metadata": {},
   "outputs": [],
   "source": [
    "def mdietz(d, begval, endval, start_date = None, end_date = None, date_column='date', amount_column='amount'):\n",
    "\n",
    "    d = sorted(d, key = lambda x: x[0])\n",
    "    dates = [ i for i, j in d ]\n",
    "\n",
    "    def do_sum(acc, x): \n",
    "        return 0, acc[1] + x[1]\n",
    "\n",
    "    def wtd_sum(acc, x):\n",
    "        delta = end_date - x[0]\n",
    "        weight = delta.days/total_days\n",
    "        return 0, acc[1] + -1 * x[1] * weight\n",
    "\n",
    "    # total cashflows\n",
    "    total_flows  =  reduce(do_sum, d)[1]\n",
    "    \n",
    "    if start_date is None: start_date = dates[0]\n",
    "    if end_date is None: end_date = dates[-1]\n",
    "\n",
    "    delta = end_date - start_date\n",
    "    total_days = delta.days\n",
    "    print(total_days, total_flows, reduce(wtd_sum, d, (0,0))[1])\n",
    "    \n",
    "    #Modified Dietz\n",
    "    MD = (endval - begval + total_flows) / (begval + reduce(wtd_sum, d, (0,0))[1]);\n",
    "    annualizedMD = (1+MD)**(365/(total_days-1)) - 1;\n",
    "\n",
    "    return MD, annualizedMD\n",
    "    \n",
    "\n",
    "    "
   ]
  },
  {
   "cell_type": "code",
   "execution_count": 159,
   "metadata": {},
   "outputs": [
    {
     "output_type": "stream",
     "name": "stdout",
     "text": [
      "91 -14132468 4467902.527472528\n"
     ]
    },
    {
     "output_type": "execute_result",
     "data": {
      "text/plain": [
       "(0.0034671607752333107, 0.014135923482372359)"
      ]
     },
     "metadata": {},
     "execution_count": 159
    }
   ],
   "source": [
    "mdietz(\n",
    "    tuple(zip(\n",
    "        [date(2020, 1, 31), date(2020, 2, 28), date(2020, 3, 4), date(2020, 3, 31)], \n",
    "        [-3429030, -6737065, 546250, -4512623])), \n",
    "    122504000,    \n",
    "    137076700,\n",
    "    date(2019, 12, 31),\n",
    "    date(2020, 3, 31)\n",
    "    )"
   ]
  },
  {
   "cell_type": "code",
   "execution_count": 77,
   "metadata": {},
   "outputs": [
    {
     "output_type": "stream",
     "name": "stdout",
     "text": [
      "(3, 0)\n"
     ]
    }
   ],
   "source": [
    "def rsum(acc, x):\n",
    "    return acc[0] + x[0], 0\n",
    "a = [(1, 2), (1, 4), (1, 6)]\n",
    "print(reduce(rsum, a))\n",
    "     "
   ]
  },
  {
   "cell_type": "code",
   "execution_count": 76,
   "metadata": {},
   "outputs": [
    {
     "output_type": "stream",
     "name": "stdout",
     "text": [
      "(3, 12)\n"
     ]
    }
   ],
   "source": [
    "a = [(1, 2), (1, 4), (1, 6)]\n",
    "print(reduce(lambda x, y: (x[0] + y[0], x[1] + y[1]), a))"
   ]
  },
  {
   "cell_type": "code",
   "execution_count": 32,
   "metadata": {},
   "outputs": [
    {
     "output_type": "execute_result",
     "data": {
      "text/plain": [
       "(6, 15)"
      ]
     },
     "metadata": {},
     "execution_count": 32
    }
   ],
   "source": [
    "nums = [(1, 0), (2, 5), (3, 10)]\n",
    "reduce(lambda x, y: (x[0] + y[0], x[1] + y[1]), nums)"
   ]
  },
  {
   "cell_type": "code",
   "execution_count": 36,
   "metadata": {},
   "outputs": [
    {
     "output_type": "execute_result",
     "data": {
      "text/plain": [
       "((datetime.date(2010, 12, 29), -10000),\n",
       " (datetime.date(2012, 1, 25), 20),\n",
       " (datetime.date(2012, 3, 8), 10100))"
      ]
     },
     "metadata": {},
     "execution_count": 36
    }
   ],
   "source": [
    "tuple(zip([date(2010, 12, 29), date(2012, 1, 25), date(2012, 3, 8)], [-10000, 20, 10100]))"
   ]
  },
  {
   "cell_type": "code",
   "execution_count": null,
   "metadata": {},
   "outputs": [],
   "source": []
  }
 ]
}